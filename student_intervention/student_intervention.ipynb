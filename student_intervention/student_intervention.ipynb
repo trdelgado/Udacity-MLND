{
 "cells": [
  {
   "cell_type": "markdown",
   "metadata": {},
   "source": [
    "# Machine Learning Engineer Nanodegree\n",
    "## Supervised Learning\n",
    "## Project: Building a Student Intervention System"
   ]
  },
  {
   "cell_type": "markdown",
   "metadata": {},
   "source": [
    "Welcome to the second project of the Machine Learning Engineer Nanodegree! In this notebook, some template code has already been provided for you, and it will be your job to implement the additional functionality necessary to successfully complete this project. Sections that begin with **'Implementation'** in the header indicate that the following block of code will require additional functionality which you must provide. Instructions will be provided for each section and the specifics of the implementation are marked in the code block with a `'TODO'` statement. Please be sure to read the instructions carefully!\n",
    "\n",
    "In addition to implementing code, there will be questions that you must answer which relate to the project and your implementation. Each section where you will answer a question is preceded by a **'Question X'** header. Carefully read each question and provide thorough answers in the following text boxes that begin with **'Answer:'**. Your project submission will be evaluated based on your answers to each of the questions and the implementation you provide.  \n",
    "\n",
    ">**Note:** Code and Markdown cells can be executed using the **Shift + Enter** keyboard shortcut. In addition, Markdown cells can be edited by typically double-clicking the cell to enter edit mode."
   ]
  },
  {
   "cell_type": "markdown",
   "metadata": {},
   "source": [
    "### Question 1 - Classification vs. Regression\n",
    "*Your goal for this project is to identify students who might need early intervention before they fail to graduate. Which type of supervised learning problem is this, classification or regression? Why?*"
   ]
  },
  {
   "cell_type": "markdown",
   "metadata": {},
   "source": [
    "**Answer: **"
   ]
  },
  {
   "cell_type": "markdown",
   "metadata": {},
   "source": [
    "This project is a classification problem since we are trying to determine a discrete label of yes or no whether students need early intervention."
   ]
  },
  {
   "cell_type": "markdown",
   "metadata": {},
   "source": [
    "## Exploring the Data\n",
    "Run the code cell below to load necessary Python libraries and load the student data. Note that the last column from this dataset, `'passed'`, will be our target label (whether the student graduated or didn't graduate). All other columns are features about each student."
   ]
  },
  {
   "cell_type": "code",
   "execution_count": 1,
   "metadata": {
    "collapsed": false
   },
   "outputs": [
    {
     "name": "stdout",
     "output_type": "stream",
     "text": [
      "Student data read successfully!\n"
     ]
    }
   ],
   "source": [
    "# Import libraries\n",
    "import numpy as np\n",
    "import pandas as pd\n",
    "from time import time\n",
    "from sklearn.metrics import f1_score\n",
    "\n",
    "# Read student data\n",
    "student_data = pd.read_csv(\"student-data.csv\")\n",
    "print \"Student data read successfully!\""
   ]
  },
  {
   "cell_type": "markdown",
   "metadata": {},
   "source": [
    "### Implementation: Data Exploration\n",
    "Let's begin by investigating the dataset to determine how many students we have information on, and learn about the graduation rate among these students. In the code cell below, you will need to compute the following:\n",
    "- The total number of students, `n_students`.\n",
    "- The total number of features for each student, `n_features`.\n",
    "- The number of those students who passed, `n_passed`.\n",
    "- The number of those students who failed, `n_failed`.\n",
    "- The graduation rate of the class, `grad_rate`, in percent (%).\n"
   ]
  },
  {
   "cell_type": "code",
   "execution_count": 11,
   "metadata": {
    "collapsed": false
   },
   "outputs": [
    {
     "name": "stdout",
     "output_type": "stream",
     "text": [
      "Total number of students: 395\n",
      "Number of features: 30\n",
      "Number of students who passed: 265\n",
      "Number of students who failed: 130\n",
      "Graduation rate of the class: 67.09%\n",
      "F1 score for predicting all 'yes': 0.8030\n"
     ]
    }
   ],
   "source": [
    "# TODO: Calculate number of students\n",
    "n_students = len(student_data)\n",
    "\n",
    "# TODO: Calculate number of features\n",
    "n_features = len(student_data.columns)-1\n",
    "\n",
    "# TODO: Calculate passing students\n",
    "n_passed = sum(student_data['passed'] == 'yes')\n",
    "\n",
    "# TODO: Calculate failing students\n",
    "n_failed = sum(student_data['passed'] == 'no')\n",
    "\n",
    "# TODO: Calculate graduation rate\n",
    "grad_rate = (100.0*n_passed)/(n_students)\n",
    "\n",
    "# Print the results\n",
    "print \"Total number of students: {}\".format(n_students)\n",
    "print \"Number of features: {}\".format(n_features)\n",
    "print \"Number of students who passed: {}\".format(n_passed)\n",
    "print \"Number of students who failed: {}\".format(n_failed)\n",
    "print \"Graduation rate of the class: {:.2f}%\".format(grad_rate)\n",
    "\n",
    "# Additional analysis to see how a naive model might produce a prediction\n",
    "from sklearn.metrics import f1_score\n",
    "fscore = f1_score(y_true = ['yes']*n_passed + ['no']*n_failed, y_pred = ['yes']*n_students, pos_label='yes', average='binary')\n",
    "print \"F1 score for predicting all 'yes': {:.4f}\".format(fscore)"
   ]
  },
  {
   "cell_type": "markdown",
   "metadata": {},
   "source": [
    "## Preparing the Data\n",
    "In this section, we will prepare the data for modeling, training and testing.\n",
    "\n",
    "### Identify feature and target columns\n",
    "It is often the case that the data you obtain contains non-numeric features. This can be a problem, as most machine learning algorithms expect numeric data to perform computations with.\n",
    "\n",
    "Run the code cell below to separate the student data into feature and target columns to see if any features are non-numeric."
   ]
  },
  {
   "cell_type": "code",
   "execution_count": 12,
   "metadata": {
    "collapsed": false
   },
   "outputs": [
    {
     "name": "stdout",
     "output_type": "stream",
     "text": [
      "Feature columns:\n",
      "['school', 'sex', 'age', 'address', 'famsize', 'Pstatus', 'Medu', 'Fedu', 'Mjob', 'Fjob', 'reason', 'guardian', 'traveltime', 'studytime', 'failures', 'schoolsup', 'famsup', 'paid', 'activities', 'nursery', 'higher', 'internet', 'romantic', 'famrel', 'freetime', 'goout', 'Dalc', 'Walc', 'health', 'absences']\n",
      "\n",
      "Target column: passed\n",
      "\n",
      "Feature values:\n",
      "  school sex  age address famsize Pstatus  Medu  Fedu     Mjob      Fjob  \\\n",
      "0     GP   F   18       U     GT3       A     4     4  at_home   teacher   \n",
      "1     GP   F   17       U     GT3       T     1     1  at_home     other   \n",
      "2     GP   F   15       U     LE3       T     1     1  at_home     other   \n",
      "3     GP   F   15       U     GT3       T     4     2   health  services   \n",
      "4     GP   F   16       U     GT3       T     3     3    other     other   \n",
      "\n",
      "    ...    higher internet  romantic  famrel  freetime goout Dalc Walc health  \\\n",
      "0   ...       yes       no        no       4         3     4    1    1      3   \n",
      "1   ...       yes      yes        no       5         3     3    1    1      3   \n",
      "2   ...       yes      yes        no       4         3     2    2    3      3   \n",
      "3   ...       yes      yes       yes       3         2     2    1    1      5   \n",
      "4   ...       yes       no        no       4         3     2    1    2      5   \n",
      "\n",
      "  absences  \n",
      "0        6  \n",
      "1        4  \n",
      "2       10  \n",
      "3        2  \n",
      "4        4  \n",
      "\n",
      "[5 rows x 30 columns]\n"
     ]
    }
   ],
   "source": [
    "# Extract feature columns\n",
    "feature_cols = list(student_data.columns[:-1])\n",
    "\n",
    "# Extract target column 'passed'\n",
    "target_col = student_data.columns[-1] \n",
    "\n",
    "# Show the list of columns\n",
    "print \"Feature columns:\\n{}\".format(feature_cols)\n",
    "print \"\\nTarget column: {}\".format(target_col)\n",
    "\n",
    "# Separate the data into feature data and target data (X_all and y_all, respectively)\n",
    "X_all = student_data[feature_cols]\n",
    "y_all = student_data[target_col]\n",
    "\n",
    "# Show the feature information by printing the first five rows\n",
    "print \"\\nFeature values:\"\n",
    "print X_all.head()"
   ]
  },
  {
   "cell_type": "markdown",
   "metadata": {},
   "source": [
    "### Preprocess Feature Columns\n",
    "\n",
    "As you can see, there are several non-numeric columns that need to be converted! Many of them are simply `yes`/`no`, e.g. `internet`. These can be reasonably converted into `1`/`0` (binary) values.\n",
    "\n",
    "Other columns, like `Mjob` and `Fjob`, have more than two values, and are known as _categorical variables_. The recommended way to handle such a column is to create as many columns as possible values (e.g. `Fjob_teacher`, `Fjob_other`, `Fjob_services`, etc.), and assign a `1` to one of them and `0` to all others.\n",
    "\n",
    "These generated columns are sometimes called _dummy variables_, and we will use the [`pandas.get_dummies()`](http://pandas.pydata.org/pandas-docs/stable/generated/pandas.get_dummies.html?highlight=get_dummies#pandas.get_dummies) function to perform this transformation. Run the code cell below to perform the preprocessing routine discussed in this section."
   ]
  },
  {
   "cell_type": "code",
   "execution_count": 13,
   "metadata": {
    "collapsed": false
   },
   "outputs": [
    {
     "name": "stdout",
     "output_type": "stream",
     "text": [
      "Processed feature columns (48 total features):\n",
      "['school_GP', 'school_MS', 'sex_F', 'sex_M', 'age', 'address_R', 'address_U', 'famsize_GT3', 'famsize_LE3', 'Pstatus_A', 'Pstatus_T', 'Medu', 'Fedu', 'Mjob_at_home', 'Mjob_health', 'Mjob_other', 'Mjob_services', 'Mjob_teacher', 'Fjob_at_home', 'Fjob_health', 'Fjob_other', 'Fjob_services', 'Fjob_teacher', 'reason_course', 'reason_home', 'reason_other', 'reason_reputation', 'guardian_father', 'guardian_mother', 'guardian_other', 'traveltime', 'studytime', 'failures', 'schoolsup', 'famsup', 'paid', 'activities', 'nursery', 'higher', 'internet', 'romantic', 'famrel', 'freetime', 'goout', 'Dalc', 'Walc', 'health', 'absences']\n"
     ]
    }
   ],
   "source": [
    "def preprocess_features(X):\n",
    "    ''' Preprocesses the student data and converts non-numeric binary variables into\n",
    "        binary (0/1) variables. Converts categorical variables into dummy variables. '''\n",
    "    \n",
    "    # Initialize new output DataFrame\n",
    "    output = pd.DataFrame(index = X.index)\n",
    "\n",
    "    # Investigate each feature column for the data\n",
    "    for col, col_data in X.iteritems():\n",
    "        \n",
    "        # If data type is non-numeric, replace all yes/no values with 1/0\n",
    "        if col_data.dtype == object:\n",
    "            col_data = col_data.replace(['yes', 'no'], [1, 0])\n",
    "\n",
    "        # If data type is categorical, convert to dummy variables\n",
    "        if col_data.dtype == object:\n",
    "            # Example: 'school' => 'school_GP' and 'school_MS'\n",
    "            col_data = pd.get_dummies(col_data, prefix = col)  \n",
    "        \n",
    "        # Collect the revised columns\n",
    "        output = output.join(col_data)\n",
    "    \n",
    "    return output\n",
    "\n",
    "X_all = preprocess_features(X_all)\n",
    "print \"Processed feature columns ({} total features):\\n{}\".format(len(X_all.columns), list(X_all.columns))"
   ]
  },
  {
   "cell_type": "code",
   "execution_count": 16,
   "metadata": {
    "collapsed": true
   },
   "outputs": [],
   "source": [
    "# Additional preprocessing to deal with scaling and normalization\n",
    "# Helps improve performance from machine learning algorithms that could benefit from scaling\n",
    "from sklearn import preprocessing\n",
    "X_all = preprocessing.scale(X_all)"
   ]
  },
  {
   "cell_type": "markdown",
   "metadata": {},
   "source": [
    "### Implementation: Training and Testing Data Split\n",
    "So far, we have converted all _categorical_ features into numeric values. For the next step, we split the data (both features and corresponding labels) into training and test sets. In the following code cell below, you will need to implement the following:\n",
    "- Randomly shuffle and split the data (`X_all`, `y_all`) into training and testing subsets.\n",
    "  - Use 300 training points (approximately 75%) and 95 testing points (approximately 25%).\n",
    "  - Set a `random_state` for the function(s) you use, if provided.\n",
    "  - Store the results in `X_train`, `X_test`, `y_train`, and `y_test`."
   ]
  },
  {
   "cell_type": "code",
   "execution_count": 17,
   "metadata": {
    "collapsed": false
   },
   "outputs": [
    {
     "name": "stdout",
     "output_type": "stream",
     "text": [
      "Training set has 300 samples.\n",
      "Testing set has 95 samples.\n"
     ]
    }
   ],
   "source": [
    "# TODO: Import any additional functionality you may need here\n",
    "from sklearn.model_selection import train_test_split\n",
    "\n",
    "# TODO: Set the number of training points\n",
    "num_train = 300\n",
    "\n",
    "# Set the number of testing points\n",
    "num_test = len(X_all) - num_train\n",
    "\n",
    "# TODO: Shuffle and split the dataset into the number of training and testing points above\n",
    "# Data is small and highly imbalanced (more passing students than none passing)\n",
    "# Implement Stratified Shuffle Split Cross validation to stratify and preserve percentage of samples for each class\n",
    "X_train, X_test, y_train, y_test = train_test_split(X_all, y_all, stratify = y_all, test_size = num_test, random_state=42)\n",
    "\n",
    "# Show the results of the split\n",
    "print \"Training set has {} samples.\".format(X_train.shape[0])\n",
    "print \"Testing set has {} samples.\".format(X_test.shape[0])"
   ]
  },
  {
   "cell_type": "markdown",
   "metadata": {},
   "source": [
    "## Training and Evaluating Models\n",
    "In this section, you will choose 3 supervised learning models that are appropriate for this problem and available in `scikit-learn`. You will first discuss the reasoning behind choosing these three models by considering what you know about the data and each model's strengths and weaknesses. You will then fit the model to varying sizes of training data (100 data points, 200 data points, and 300 data points) and measure the F<sub>1</sub> score. You will need to produce three tables (one for each model) that shows the training set size, training time, prediction time, F<sub>1</sub> score on the training set, and F<sub>1</sub> score on the testing set.\n",
    "\n",
    "**The following supervised learning models are currently available in** [`scikit-learn`](http://scikit-learn.org/stable/supervised_learning.html) **that you may choose from:**\n",
    "- Gaussian Naive Bayes (GaussianNB)\n",
    "- Decision Trees\n",
    "- Ensemble Methods (Bagging, AdaBoost, Random Forest, Gradient Boosting)\n",
    "- K-Nearest Neighbors (KNeighbors)\n",
    "- Stochastic Gradient Descent (SGDC)\n",
    "- Support Vector Machines (SVM)\n",
    "- Logistic Regression"
   ]
  },
  {
   "cell_type": "markdown",
   "metadata": {},
   "source": [
    "### Question 2 - Model Application\n",
    "*List three supervised learning models that are appropriate for this problem. For each model chosen*\n",
    "- Describe one real-world application in industry where the model can be applied. *(You may need to do a small bit of research for this — give references!)* \n",
    "- What are the strengths of the model; when does it perform well? \n",
    "- What are the weaknesses of the model; when does it perform poorly?\n",
    "- What makes this model a good candidate for the problem, given what you know about the data?\n",
    "\n",
    "sklearn documentation:\n",
    "http://scikit-learn.org/stable/tutorial/machine_learning_map/"
   ]
  },
  {
   "cell_type": "markdown",
   "metadata": {},
   "source": [
    "**Answer: **"
   ]
  },
  {
   "cell_type": "markdown",
   "metadata": {},
   "source": [
    "Gaussian Naive Bayes:\n",
    "\n",
    "1. Naive Baye is a probability-based classifier with the assumption that each feature independently effects the classification results. It is commonly used in industry for text analysis such as for Google's gmail spam email detection. Each word in the text can be a probabilitic indicator whether the email was spam (for example the use of the word viagra migh assign the email as spam but perhaps not the name of a friend or loved one). \n",
    "\n",
    "2. In practice the algorithm works relevatively well on classification tasks with datasets that have a large amount of features without having to understand or model any of the complex relationships that might exist between features. It also tends to learn fast and is more robust to dimensionality. Since the model assumes the features are independent it can make the model easy to understand and efficient to training without the need for model tuning.\n",
    "\n",
    "3. The algorithm is extremely naive thus it cannot capture important feature interactions that might exist or model hierarchical functions. In addition since it uses bayesian statistics it has difficulty with zero-frequency values.\n",
    "\n",
    "4. The student intervention dataset has a lot of features with limited data. Thus GNB might be a good quick first start to see how well a naive model might predict the student graduation rates without dealing with the bias-variance dilemma or a lot of resouces. The F1 score can serve as a good benchmark standard of other model to match or exceed.\n",
    "\n",
    "Sources: \n",
    "\n",
    "http://scikit-learn.org/stable/modules/naive_bayes.html\n",
    "\n",
    "https://www.quora.com/In-what-real-world-applications-is-Naive-Bayes-classifier-used\n",
    "\n",
    "Chapter 6. Bayesian Learning, Machine Learning, Tom M. Mitchell"
   ]
  },
  {
   "cell_type": "markdown",
   "metadata": {},
   "source": [
    "Decision Trees:\n",
    "\n",
    "1. Decision Trees builds a series of questions on the features to lead to a final decision. They are often used in operational research to develop expert knowledge systems or help diagnoise a problem (for example common illnesses in the medical field by asking a lot of highly relevant questions that reduce uncertainty of the end result).\n",
    "\n",
    "2. The algorithm is easy to understand, requires little data preparation with its hierarchical list of if-else rules to break down a problem by looking at the most relevant features first until it has enough information to determine the most likely result. When fully trained the model is extremely fast and efficient at making predictions (log time).\n",
    "\n",
    "3. Will start to capture noise rather than the underyline relationships in the data if tree is too deep and complex. Most decision-tree algorithms use a greed algorithm making local optimal decisions but will not necessary generate the global optimal. The algorithm also struggles to learn complex functions such as XOR, multiplexer problems, or if the labels are severly unbalanced.\n",
    "\n",
    "4. The algorithm generates very fast prediction by looking at the most essential features using entrophy. Therefore if we assume a one time fixed cost on training time it might be a good model to reduce computational resources when querying student predictions for the school while also serving as another benchmark for F1 score performance.\n",
    "\n",
    "Sources:\n",
    "\n",
    "http://scikit-learn.org/stable/modules/tree.html#tree\n",
    "\n",
    "http://www.cbcb.umd.edu/~salzberg/docs/murthy_thesis/survey/node32.html\n",
    "\n",
    "https://www.quora.com/What-are-some-practical-business-uses-of-decision-trees\n",
    "\n",
    "Chapter 3. Decision Tree Learning, Machine Learning, Tom M. Mitchell"
   ]
  },
  {
   "cell_type": "markdown",
   "metadata": {},
   "source": [
    "Ensemble Methods (AdaBoost):\n",
    "\n",
    "1. Adaboost is a meta-algorithm that produces a strong learning classifier built from weak learners through iteratively re-addressing misclassified points. Some real-world applications of adaboosting are in biology, computer vision, and speech processing.\n",
    "\n",
    "2. Adaboost is generally good at handling mix data types and robust to overfitting.\n",
    "\n",
    "3. The algorithm takes up a lot of computational resources and is not very scalable since it processes data sequentially.\n",
    "\n",
    "4. Though Adaboost takes up a lot of resources it tends to find an optimal model without overfitting which might be attractice if we want to reach a 95% graduation rate without overfitting the small dataset provided.\n",
    "\n",
    "Sources:\n",
    "\n",
    "http://scikit-learn.org/stable/modules/ensemble.html#adaboost\n",
    "\n"
   ]
  },
  {
   "cell_type": "markdown",
   "metadata": {},
   "source": [
    "K-Nearest Neighbors:\n",
    "\n",
    "1. K-Nearest Neighbors predicts the class by looking at nearby instances. It is used in applications where you are searching for similar items such as online document, voting perferences, or for recommendations systems (if a person like some movies it possible they might like similar movies of the same genre, casting, director or storyplot).\n",
    "\n",
    "2. Simple algorithm to implement and understand, remembers old data, fast to train (no upfront training costs).\n",
    "\n",
    "3. Takes up a large amount of memory for larger datasets and computationally expensive for making predictions not seen in the data. Sensitive to the local structure of the data so might not be able to capture more in depth relationships that might exist.\n",
    "\n",
    "4. I decided to try knn since it tries to bundle similar data point together I would imagine that students demonstrate the same behaviors in school are likely to have similar gradutations rates.\n",
    "\n",
    "Sources:\n",
    "\n",
    "http://scikit-learn.org/stable/modules/neighbors.html#neighbors\n",
    "\n",
    "https://www.quora.com/What-is-the-k-Nearest-Neighbour-algorithm-What-type-of-problems-can-be-solved-by-this-algorithm-What-type-of-math-is-required\n",
    "\n",
    "Chapter 8. Instance-Based Learning, Machine Learning, Tom M. Mitchell"
   ]
  },
  {
   "cell_type": "markdown",
   "metadata": {},
   "source": [
    "Stochastic Gradient Descent (SGDC):\n",
    "    \n",
    "1. SGDC is used in all kinds machine learning models to iterative improve the scoring function. For example deep learning models uses stochastic gradient descent for large scale problems such as driverless cars where it iteratively goes through the dataset to make updates to each parameter.\n",
    "\n",
    "2. SGDC is very efficient with lots of parameters available to tune.\n",
    "\n",
    "3. Algorithm is sensitive to scaling and requires a number of hyperparameters.\n",
    "\n",
    "4. While SGDC has a lot of parameters it is very efficient and flexible which might be useful if we need to tune the model to accurately model student intervention.\n",
    "\n",
    "Sources:\n",
    "\n",
    "http://scikit-learn.org/stable/modules/sgd.html\n",
    "\n",
    "Chapter 4. Artificial Neural Networks, Machine Learning, Tom M. Mitchell"
   ]
  },
  {
   "cell_type": "markdown",
   "metadata": {},
   "source": [
    "Support Vector Machine:\n",
    "\n",
    "1. Support Vector Machines find an optimal decision boundary to predict new instances. They are commonly used in industry for tasks such as image classification or bioinformatics to separate and identify various types of proteins or cancers.\n",
    "\n",
    "2. With the additional use of the kernel trick, SVMs are effective in high dimensional spaces. Once the model is fully trained it only keeps support vector which makes it extremely memory efficient when making predictions.\n",
    "\n",
    "3. Support Vector Machine use quadratic programing which does not scale well in speed or memory (training) for large-scale tasks.\n",
    "\n",
    "4. I decided to use an SVC since the algorithm is good at finding an optimal decision boundary with little memory usage once trained. I figure it might be able to provide highly accurate prediction of intervention that may prove more useful than the memory usage it ends up taking.\n",
    "\n",
    "Sources:\n",
    "\n",
    "http://scikit-learn.org/stable/modules/svm.html\n",
    "\n",
    "https://en.wikipedia.org/wiki/Support_vector_machine#Applications"
   ]
  },
  {
   "cell_type": "markdown",
   "metadata": {},
   "source": [
    "Logistic Regression:\n",
    "    \n",
    "1. Logistic Regression is a very simple linear classification model that is used often used in more complex models such as neural networks to learn more complex functions such as voice or hand recognition, but can also be used for very simple models that assume independent feature (for example as very simple model that determines loan approval based on income, debt, and credit scores).\n",
    "\n",
    "2. Logistic Regression is very simple and easy to understand. It is very efficient and takes up little to no memory once the model is fully trained (keeps only the parameter weights to make a prediction).\n",
    "\n",
    "3. The model assumes linear independent features which might not hold. In addition it cannot capture more complex interaction or higher level functionality on its own (would need to use a model such as neural networks to accomplish this).\n",
    "\n",
    "4. Decided to use Logistic Regression since the model is easy to understand and very efficient.\n",
    "\n",
    "Sources:\n",
    "\n",
    "http://scikit-learn.org/stable/modules/linear_model.html#logistic-regression\n",
    "\n",
    "https://www.quora.com/What-are-applications-of-linear-and-logistic-regression"
   ]
  },
  {
   "cell_type": "markdown",
   "metadata": {},
   "source": [
    "### Setup\n",
    "Run the code cell below to initialize three helper functions which you can use for training and testing the three supervised learning models you've chosen above. The functions are as follows:\n",
    "- `train_classifier` - takes as input a classifier and training data and fits the classifier to the data.\n",
    "- `predict_labels` - takes as input a fit classifier, features, and a target labeling and makes predictions using the F<sub>1</sub> score.\n",
    "- `train_predict` - takes as input a classifier, and the training and testing data, and performs `train_clasifier` and `predict_labels`.\n",
    " - This function will report the F<sub>1</sub> score for both the training and testing data separately."
   ]
  },
  {
   "cell_type": "code",
   "execution_count": 18,
   "metadata": {
    "collapsed": false
   },
   "outputs": [],
   "source": [
    "def train_classifier(clf, X_train, y_train):\n",
    "    ''' Fits a classifier to the training data. '''\n",
    "    \n",
    "    # Start the clock, train the classifier, then stop the clock\n",
    "    start = time()\n",
    "    clf.fit(X_train, y_train)\n",
    "    end = time()\n",
    "    \n",
    "    # Print the results\n",
    "    print \"Trained model in {:.4f} seconds\".format(end - start)\n",
    "\n",
    "    \n",
    "def predict_labels(clf, features, target):\n",
    "    ''' Makes predictions using a fit classifier based on F1 score. '''\n",
    "    \n",
    "    # Start the clock, make predictions, then stop the clock\n",
    "    start = time()\n",
    "    y_pred = clf.predict(features)\n",
    "    end = time()\n",
    "    \n",
    "    # Print and return results\n",
    "    print \"Made predictions in {:.4f} seconds.\".format(end - start)\n",
    "    return f1_score(target.values, y_pred, pos_label='yes')\n",
    "\n",
    "\n",
    "def train_predict(clf, X_train, y_train, X_test, y_test):\n",
    "    ''' Train and predict using a classifer based on F1 score. '''\n",
    "    \n",
    "    # Indicate the classifier and the training set size\n",
    "    print \"Training a {} using a training set size of {}. . .\".format(clf.__class__.__name__, len(X_train))\n",
    "    \n",
    "    # Train the classifier\n",
    "    train_classifier(clf, X_train, y_train)\n",
    "    \n",
    "    # Print the results of prediction for both training and testing\n",
    "    print \"F1 score for training set: {:.4f}.\".format(predict_labels(clf, X_train, y_train))\n",
    "    print \"F1 score for test set: {:.4f}.\".format(predict_labels(clf, X_test, y_test))"
   ]
  },
  {
   "cell_type": "markdown",
   "metadata": {},
   "source": [
    "### Implementation: Model Performance Metrics\n",
    "With the predefined functions above, you will now import the three supervised learning models of your choice and run the `train_predict` function for each one. Remember that you will need to train and predict on each classifier for three different training set sizes: 100, 200, and 300. Hence, you should expect to have 9 different outputs below — 3 for each model using the varying training set sizes. In the following code cell, you will need to implement the following:\n",
    "- Import the three supervised learning models you've discussed in the previous section.\n",
    "- Initialize the three models and store them in `clf_A`, `clf_B`, and `clf_C`.\n",
    " - Use a `random_state` for each model you use, if provided.\n",
    " - **Note:** Use the default settings for each model — you will tune one specific model in a later section.\n",
    "- Create the different training set sizes to be used to train each model.\n",
    " - *Do not reshuffle and resplit the data! The new training points should be drawn from `X_train` and `y_train`.*\n",
    "- Fit each model with each training set size and make predictions on the test set (9 in total).  \n",
    "**Note:** Three tables are provided after the following code cell which can be used to store your results."
   ]
  },
  {
   "cell_type": "code",
   "execution_count": 20,
   "metadata": {
    "collapsed": false
   },
   "outputs": [
    {
     "name": "stdout",
     "output_type": "stream",
     "text": [
      "\n",
      "GaussianNB: \n",
      "Training a GaussianNB using a training set size of 100. . .\n",
      "Trained model in 0.0012 seconds\n",
      "Made predictions in 0.0002 seconds.\n",
      "F1 score for training set: 0.7752.\n",
      "Made predictions in 0.0005 seconds.\n",
      "F1 score for test set: 0.6457.\n",
      "Training a GaussianNB using a training set size of 200. . .\n",
      "Trained model in 0.0008 seconds\n",
      "Made predictions in 0.0003 seconds.\n",
      "F1 score for training set: 0.8060.\n",
      "Made predictions in 0.0002 seconds.\n",
      "F1 score for test set: 0.7218.\n",
      "Training a GaussianNB using a training set size of 300. . .\n",
      "Trained model in 0.0008 seconds\n",
      "Made predictions in 0.0005 seconds.\n",
      "F1 score for training set: 0.8134.\n",
      "Made predictions in 0.0003 seconds.\n",
      "F1 score for test set: 0.7761.\n",
      "\n",
      "DecisionTreeClassifier: \n",
      "Training a DecisionTreeClassifier using a training set size of 100. . .\n",
      "Trained model in 0.0011 seconds\n",
      "Made predictions in 0.0002 seconds.\n",
      "F1 score for training set: 1.0000.\n",
      "Made predictions in 0.0002 seconds.\n",
      "F1 score for test set: 0.6667.\n",
      "Training a DecisionTreeClassifier using a training set size of 200. . .\n",
      "Trained model in 0.0025 seconds\n",
      "Made predictions in 0.0004 seconds.\n",
      "F1 score for training set: 1.0000.\n",
      "Made predictions in 0.0005 seconds.\n",
      "F1 score for test set: 0.6992.\n",
      "Training a DecisionTreeClassifier using a training set size of 300. . .\n",
      "Trained model in 0.0045 seconds\n",
      "Made predictions in 0.0004 seconds.\n",
      "F1 score for training set: 1.0000.\n",
      "Made predictions in 0.0002 seconds.\n",
      "F1 score for test set: 0.6557.\n",
      "\n",
      "AdaBoostClassifier: \n",
      "Training a AdaBoostClassifier using a training set size of 100. . .\n",
      "Trained model in 0.1620 seconds\n",
      "Made predictions in 0.0039 seconds.\n",
      "F1 score for training set: 0.9778.\n",
      "Made predictions in 0.0042 seconds.\n",
      "F1 score for test set: 0.6880.\n",
      "Training a AdaBoostClassifier using a training set size of 200. . .\n",
      "Trained model in 0.1779 seconds\n",
      "Made predictions in 0.0062 seconds.\n",
      "F1 score for training set: 0.8905.\n",
      "Made predictions in 0.0047 seconds.\n",
      "F1 score for test set: 0.7445.\n",
      "Training a AdaBoostClassifier using a training set size of 300. . .\n",
      "Trained model in 0.1727 seconds\n",
      "Made predictions in 0.0098 seconds.\n",
      "F1 score for training set: 0.8565.\n",
      "Made predictions in 0.0042 seconds.\n",
      "F1 score for test set: 0.7328.\n",
      "\n",
      "KNeighborsClassifier: \n",
      "Training a KNeighborsClassifier using a training set size of 100. . .\n",
      "Trained model in 0.0005 seconds\n",
      "Made predictions in 0.0038 seconds.\n",
      "F1 score for training set: 0.8027.\n",
      "Made predictions in 0.0029 seconds.\n",
      "F1 score for test set: 0.7534.\n",
      "Training a KNeighborsClassifier using a training set size of 200. . .\n",
      "Trained model in 0.0005 seconds\n",
      "Made predictions in 0.0036 seconds.\n",
      "F1 score for training set: 0.8014.\n",
      "Made predictions in 0.0024 seconds.\n",
      "F1 score for test set: 0.7324.\n",
      "Training a KNeighborsClassifier using a training set size of 300. . .\n",
      "Trained model in 0.0007 seconds\n",
      "Made predictions in 0.0085 seconds.\n",
      "F1 score for training set: 0.8281.\n",
      "Made predictions in 0.0028 seconds.\n",
      "F1 score for test set: 0.7671.\n",
      "\n",
      "SGDClassifier: \n",
      "Training a SGDClassifier using a training set size of 100. . .\n",
      "Trained model in 0.0005 seconds\n",
      "Made predictions in 0.0001 seconds.\n",
      "F1 score for training set: 0.8346.\n",
      "Made predictions in 0.0001 seconds.\n",
      "F1 score for test set: 0.6441.\n",
      "Training a SGDClassifier using a training set size of 200. . .\n",
      "Trained model in 0.0010 seconds\n",
      "Made predictions in 0.0001 seconds.\n",
      "F1 score for training set: 0.7985.\n",
      "Made predictions in 0.0001 seconds.\n",
      "F1 score for test set: 0.7591.\n",
      "Training a SGDClassifier using a training set size of 300. . .\n",
      "Trained model in 0.0013 seconds\n",
      "Made predictions in 0.0001 seconds.\n",
      "F1 score for training set: 0.7737.\n",
      "Made predictions in 0.0001 seconds.\n",
      "F1 score for test set: 0.7634.\n",
      "\n",
      "SVC: \n",
      "Training a SVC using a training set size of 100. . .\n",
      "Trained model in 0.0011 seconds\n",
      "Made predictions in 0.0007 seconds.\n",
      "F1 score for training set: 0.9167.\n",
      "Made predictions in 0.0006 seconds.\n",
      "F1 score for test set: 0.8000.\n",
      "Training a SVC using a training set size of 200. . .\n",
      "Trained model in 0.0042 seconds\n",
      "Made predictions in 0.0036 seconds.\n",
      "F1 score for training set: 0.8904.\n",
      "Made predictions in 0.0011 seconds.\n",
      "F1 score for test set: 0.7843.\n",
      "Training a SVC using a training set size of 300. . .\n",
      "Trained model in 0.0061 seconds\n",
      "Made predictions in 0.0073 seconds.\n",
      "F1 score for training set: 0.9013.\n",
      "Made predictions in 0.0016 seconds.\n",
      "F1 score for test set: 0.8026.\n",
      "\n",
      "LogisticRegression: \n",
      "Training a LogisticRegression using a training set size of 100. . .\n",
      "Trained model in 0.0010 seconds\n",
      "Made predictions in 0.0001 seconds.\n",
      "F1 score for training set: 0.8873.\n",
      "Made predictions in 0.0001 seconds.\n",
      "F1 score for test set: 0.6774.\n",
      "Training a LogisticRegression using a training set size of 200. . .\n",
      "Trained model in 0.0013 seconds\n",
      "Made predictions in 0.0001 seconds.\n",
      "F1 score for training set: 0.8261.\n",
      "Made predictions in 0.0001 seconds.\n",
      "F1 score for test set: 0.7576.\n",
      "Training a LogisticRegression using a training set size of 300. . .\n",
      "Trained model in 0.0038 seconds\n",
      "Made predictions in 0.0002 seconds.\n",
      "F1 score for training set: 0.8451.\n",
      "Made predictions in 0.0002 seconds.\n",
      "F1 score for test set: 0.7519.\n"
     ]
    }
   ],
   "source": [
    "# TODO: Import the three supervised learning models from sklearn\n",
    "from sklearn.naive_bayes import GaussianNB\n",
    "from sklearn.tree import DecisionTreeClassifier\n",
    "from sklearn.ensemble import RandomForestClassifier, AdaBoostClassifier\n",
    "from sklearn.neighbors import KNeighborsClassifier\n",
    "from sklearn.linear_model import SGDClassifier\n",
    "from sklearn.svm import SVC\n",
    "from sklearn.linear_model import LogisticRegression\n",
    "\n",
    "# TODO: Initialize the models\n",
    "clf_A = GaussianNB()\n",
    "clf_B = DecisionTreeClassifier(random_state=0)\n",
    "clf_C = AdaBoostClassifier(random_state=0)\n",
    "clf_D = KNeighborsClassifier()\n",
    "clf_E = SGDClassifier(random_state=0)\n",
    "clf_F = SVC(random_state=0)\n",
    "clf_G = LogisticRegression(random_state=0)\n",
    "\n",
    "# List of classifiers to test on\n",
    "clf_list = [clf_A, clf_B, clf_C, clf_D, clf_E, clf_F, clf_G]\n",
    "\n",
    "'''\n",
    "# TODO: Set up the training set sizes\n",
    "X_train_100 = X_train[:100]\n",
    "y_train_100 = y_train[:100]\n",
    "X_train_200 = X_train[:200]\n",
    "y_train_200 = y_train[:200]\n",
    "X_train_300 = X_train[:300]\n",
    "y_train_300 = y_train[:300]\n",
    "\n",
    "\n",
    "# TODO: Execute the 'train_predict' function for each classifier and each training set size\n",
    "# Gaussian Naive Bayes\n",
    "print('\\nGaussianNB: ')\n",
    "train_predict(clf_A, X_train_100, y_train_100 , X_test, y_test)\n",
    "train_predict(clf_A, X_train_200 , y_train_200 , X_test, y_test)\n",
    "train_predict(clf_A, X_train, y_train, X_test, y_test)\n",
    "\n",
    "# Decision Tree Classifier\n",
    "print('\\nDecisionTreeClassifier: ')\n",
    "train_predict(clf_B, X_train_100, y_train_100 , X_test, y_test)\n",
    "train_predict(clf_B, X_train_200 , y_train_200 , X_test, y_test)\n",
    "train_predict(clf_B, X_train, y_train, X_test, y_test)\n",
    "\n",
    "# AdaBoost Classifier\n",
    "print('\\nAdaBoostClassifier: ')\n",
    "train_predict(clf_C, X_train_100, y_train_100 , X_test, y_test)\n",
    "train_predict(clf_C, X_train_200 , y_train_200 , X_test, y_test)\n",
    "train_predict(clf_C, X_train, y_train, X_test, y_test)\n",
    "\n",
    "# K-Neighbors Classifier\n",
    "print('\\nKNeighborsClassifier: ')\n",
    "train_predict(clf_D, X_train_100, y_train_100 , X_test, y_test)\n",
    "train_predict(clf_D, X_train_200 , y_train_200 , X_test, y_test)\n",
    "train_predict(clf_D, X_train, y_train, X_test, y_test)\n",
    "\n",
    "# SGD Classifier\n",
    "print('\\nSGDClassifier: ')\n",
    "train_predict(clf_E, X_train_100, y_train_100 , X_test, y_test)\n",
    "train_predict(clf_E, X_train_200 , y_train_200 , X_test, y_test)\n",
    "train_predict(clf_E, X_train, y_train, X_test, y_test)\n",
    "\n",
    "# Support Vector Classifier\n",
    "print('\\nSVC: ')\n",
    "train_predict(clf_F, X_train_100, y_train_100 , X_test, y_test)\n",
    "train_predict(clf_F, X_train_200 , y_train_200 , X_test, y_test)\n",
    "train_predict(clf_F, X_train, y_train, X_test, y_test)\n",
    "\n",
    "# Logistic Regression Classifier\n",
    "print('\\nLogisticRegression: ')\n",
    "train_predict(clf_G, X_train_100, y_train_100 , X_test, y_test)\n",
    "train_predict(clf_G, X_train_200 , y_train_200 , X_test, y_test)\n",
    "train_predict(clf_G, X_train, y_train, X_test, y_test)\n",
    "'''\n",
    "\n",
    "# loop through models, then through train sizes\n",
    "for clf in clf_list:\n",
    "    print \"\\n{}: \".format(clf.__class__.__name__)\n",
    "    for n in [100, 200, 300]:\n",
    "        train_predict(clf, X_train[:n], y_train[:n], X_test, y_test)"
   ]
  },
  {
   "cell_type": "markdown",
   "metadata": {},
   "source": [
    "### Tabular Results\n",
    "Edit the cell below to see how a table can be designed in [Markdown](https://github.com/adam-p/markdown-here/wiki/Markdown-Cheatsheet#tables). You can record your results from above in the tables provided.\n",
    "\n",
    "## Note these values will slightly chance with every simulation"
   ]
  },
  {
   "cell_type": "markdown",
   "metadata": {},
   "source": [
    "** Classifer 1 - Gaussian Naive Bayes**  \n",
    "\n",
    "| Training Set Size | Training Time | Prediction Time (test) | F1 Score (train) | F1 Score (test) |\n",
    "| :---------------: | :---------------------: | :--------------------: | :--------------: | :-------------: |\n",
    "| 100               | 0.0012 seconds          | 0.0002 seconds         | 0.7752           | 0.6457          |\n",
    "| 200               | 0.0007 seconds          | 0.0002 seconds         | 0.8060           | 0.7218          |\n",
    "| 300               | 0.0007 seconds          | 0.0002 seconds         | 0.8134           | 0.7761          |\n",
    "\n",
    "** Classifer 2 - Decision Tree Classifier**  \n",
    "\n",
    "| Training Set Size | Training Time | Prediction Time (test) | F1 Score (train) | F1 Score (test) |\n",
    "| :---------------: | :---------------------: | :--------------------: | :--------------: | :-------------: |\n",
    "| 100               | 0.0041 seconds          | 0.0001 seconds         | 1.0000           | 0.6667          |\n",
    "| 200               | 0.0012 seconds          | 0.0001 seconds         | 1.0000           | 0.6992          |\n",
    "| 300               | 0.0015 seconds          | 0.0001 seconds         | 1.0000           | 0.6557          |\n",
    "\n",
    "** Classifer 3 - AdaBoost Classifier**  \n",
    "\n",
    "| Training Set Size | Training Time | Prediction Time (test) | F1 Score (train) | F1 Score (test) |\n",
    "| :---------------: | :---------------------: | :--------------------: | :--------------: | :-------------: |\n",
    "| 100               | 0.1449 seconds          | 0.0058 seconds         | 0.9778           | 0.6880          |\n",
    "| 200               | 0.1552 seconds          | 0.0040 seconds         | 0.8905           | 0.7445          |\n",
    "| 300               | 0.1377 seconds          | 0.0040 seconds         | 0.8565           | 0.7328          |\n",
    "\n",
    "** Classifer 4 - K-Neighbor Classifier**  \n",
    "\n",
    "| Training Set Size | Training Time | Prediction Time (test) | F1 Score (train) | F1 Score (test) |\n",
    "| :---------------: | :---------------------: | :--------------------: | :--------------: | :-------------: |\n",
    "| 100               | 0.0037 seconds          | 0.0015 seconds         | 0.8027           | 0.7534          |\n",
    "| 200               | 0.0004 seconds          | 0.0020 seconds         | 0.8014           | 0.7324          |\n",
    "| 300               | 0.0006 seconds          | 0.0029 seconds         | 0.8281           | 0.7671          |\n",
    "\n",
    "** Classifer 5 - Stochastic Gradient Descent Classifier**  \n",
    "\n",
    "| Training Set Size | Training Time | Prediction Time (test) | F1 Score (train) | F1 Score (test) |\n",
    "| :---------------: | :---------------------: | :--------------------: | :--------------: | :-------------: |\n",
    "| 100               | 0.0513 seconds          | 0.0001 seconds         | 0.8346           | 0.6441          |\n",
    "| 200               | 0.0006 seconds          | 0.0001 seconds         | 0.7985           | 0.7591          |\n",
    "| 300               | 0.0006 seconds          | 0.0001 seconds         | 0.7737           | 0.7634          |\n",
    "\n",
    "** Classifer 6 - Support Vector Classifier **  \n",
    "\n",
    "| Training Set Size | Training Time | Prediction Time (test) | F1 Score (train) | F1 Score (test) |\n",
    "| :---------------: | :---------------------: | :--------------------: | :--------------: | :-------------: |\n",
    "| 100               | 0.0046 seconds          | 0.0006 seconds         | 0.9167           | 0.8000          |\n",
    "| 200               | 0.0043 seconds          | 0.0011 seconds         | 0.8904           | 0.7843          |\n",
    "| 300               | 0.0080 seconds          | 0.0015 seconds         | 0.9013           | 0.8026          |\n",
    "\n",
    "** Classifer 7 - Logistic Regression**  \n",
    "\n",
    "| Training Set Size | Training Time | Prediction Time (test) | F1 Score (train) | F1 Score (test) |\n",
    "| :---------------: | :---------------------: | :--------------------: | :--------------: | :-------------: |\n",
    "| 100               | 0.0033 seconds          | 0.0001 seconds         | 0.8873           | 0.6774          |\n",
    "| 200               | 0.0013 seconds          | 0.0001 seconds         | 0.8261           | 0.7576          |\n",
    "| 300               | 0.0018 seconds          | 0.0001 seconds         | 0.8451           | 0.7519          |\n",
    "\n"
   ]
  },
  {
   "cell_type": "markdown",
   "metadata": {},
   "source": [
    "## Choosing the Best Model\n",
    "In this final section, you will choose from the three supervised learning models the *best* model to use on the student data. You will then perform a grid search optimization for the model over the entire training set (`X_train` and `y_train`) by tuning at least one parameter to improve upon the untuned model's F<sub>1</sub> score. "
   ]
  },
  {
   "cell_type": "markdown",
   "metadata": {},
   "source": [
    "### Question 3 - Choosing the Best Model\n",
    "*Based on the experiments you performed earlier, in one to two paragraphs, explain to the board of supervisors what single model you chose as the best model. Which model is generally the most appropriate based on the available data, limited resources, cost, and performance?*"
   ]
  },
  {
   "cell_type": "markdown",
   "metadata": {},
   "source": [
    "**Answer: **"
   ]
  },
  {
   "cell_type": "markdown",
   "metadata": {},
   "source": [
    "At the time of this simulation if we take the weight average of Guassian Naive Bayes, Decision Tree Classifier, and the Support Vector Classifier for training time we get 0.0039, 0.0018, and 0.0062 seconds respectively with DT performing the best and SVC the worst. When looking at the weight time for prediction time we get 0.0002, 0.0001, and 0.0021 seconds with DT perform the best and again SVC the worst. Taking the average performance values of the various training sizes for each model we get F1 test scores of 0.7145, 0.6739, 0.7956 with DT performing the worst and SVC the best.\n",
    "\n",
    "It is important to note that the dataset is extremely small and with a lot of features that might benefit from additional cleaning and multiple trials to provide more robust and accurate models. In addition there is no discussion of the cost benefit analysis or direct trade-offs of the computational resources vs the need to properly diagnoise student interventions.\n",
    "\n",
    "Based on the data seen so far I decided to use the Support Vector Classifier. The reason I decided to go with the SVC is that it provided the best average graduation score. Even though the computation time was much higher than the other models, I believe it produces more reliable results for the small dataset which is a small price to pay in exchange giving student early assistance. Without proper preventions it might cost the school more money in the long run than the computational costs.\n",
    "\n",
    "If however the dataset was much larger where the cost of computer resources was paramount than I would argue it might favor the Naive Bayes model which still pretty reliable and scales well. The decision tree does not seem to produce a robust model to be of further consideration."
   ]
  },
  {
   "cell_type": "markdown",
   "metadata": {},
   "source": [
    "### Question 4 - Model in Layman's Terms\n",
    "*In one to two paragraphs, explain to the board of directors in layman's terms how the final model chosen is supposed to work. Be sure that you are describing the major qualities of the model, such as how the model is trained and how the model makes a prediction. Avoid using advanced mathematical or technical jargon, such as describing equations or discussing the algorithm implementation.*"
   ]
  },
  {
   "cell_type": "markdown",
   "metadata": {},
   "source": [
    "**Answer: **"
   ]
  },
  {
   "cell_type": "markdown",
   "metadata": {},
   "source": [
    "The Support Vector Classifier takes a look at similar students in the dataset and tries to find a boundary line that separates students that graduated from those who did not.\n",
    "\n",
    "For example in the image below we can assign students that graduated as blue stars and those that did not as red dots. As we can see the blue star students are clustered near each other to the left and vice versa for the red dot students on the right. In order to distinguish both group we can draw a boundary line as showen in red that tries to maximize the gap between both groups. In order for the model to find the best boundary, it looks at the students that are farthest from their respective groups and nearest to the opposing group (as seen by the star and two dots with yellow fillings). Once the boundary points are identified, they are used to find and construct two parallel 'margin' lines (as shown in the two black dashed lines) that would maximize the gap between all the boundary points found earlier. The boundary line is drawn straight through these two parallel black lines and will determine how future students are assessed based on which side of the boundary they lie on.\n",
    "\n",
    "In cases where the boundry line is complex, the SVC can redraw the labels into a new high dimensional feature which would help separate the students. For example suppose that the star students were in a circle surrounded by all the red dot students. In this case a simple linear decision boundary would not accurately separate both groups. However if we redraw the chart into 3 dimensions we can give students in the center of the graph a high graduation score than the outer group. By assigining different graduation scores based on where the student lines in the new chart we can create a new boundary line (plane) based off how high or low the graduation score feature is.\n",
    "\n",
    "Once a decision boundary line separates the distinct qualities that determine graduation rates, we can than use it to determine if new students might likely graduate or need more interventions. For example if we have a new student that exhibits behaviors that would result in them being plotted on the lower right we would expect that they would need further intervention. \n",
    "\n",
    "Image Source:\n",
    "Title: \"Using SVM Classifier\"\n",
    "Author: Sudhanshu Patel\n",
    "Link: http://www.codecops.in/2015/11/using-svm-classifier.html"
   ]
  },
  {
   "cell_type": "markdown",
   "metadata": {},
   "source": [
    "<img src=\"http://38.media.tumblr.com/0e459c9df3dc85c301ae41db5e058cb8/tumblr_inline_n9xq5hiRsC1rmpjcz.jpg\">"
   ]
  },
  {
   "cell_type": "markdown",
   "metadata": {},
   "source": [
    "### Implementation: Model Tuning\n",
    "Fine tune the chosen model. Use grid search (`GridSearchCV`) with at least one important parameter tuned with at least 3 different values. You will need to use the entire training set for this. In the code cell below, you will need to implement the following:\n",
    "- Import [`sklearn.grid_search.GridSearchCV`](http://scikit-learn.org/0.17/modules/generated/sklearn.grid_search.GridSearchCV.html) and [`sklearn.metrics.make_scorer`](http://scikit-learn.org/stable/modules/generated/sklearn.metrics.make_scorer.html).\n",
    "- Create a dictionary of parameters you wish to tune for the chosen model.\n",
    " - Example: `parameters = {'parameter' : [list of values]}`.\n",
    "- Initialize the classifier you've chosen and store it in `clf`.\n",
    "- Create the F<sub>1</sub> scoring function using `make_scorer` and store it in `f1_scorer`.\n",
    " - Set the `pos_label` parameter to the correct value!\n",
    "- Perform grid search on the classifier `clf` using `f1_scorer` as the scoring method, and store it in `grid_obj`.\n",
    "- Fit the grid search object to the training data (`X_train`, `y_train`), and store it in `grid_obj`."
   ]
  },
  {
   "cell_type": "code",
   "execution_count": 24,
   "metadata": {
    "collapsed": false
   },
   "outputs": [
    {
     "name": "stdout",
     "output_type": "stream",
     "text": [
      "Fitting 3 folds for each of 16 candidates, totalling 48 fits\n",
      "Tuned model has parameters of: \n",
      "{'C': 0.6}\n",
      "Made predictions in 0.0073 seconds.\n",
      "Tuned model has a training F1 score of 0.8481.\n",
      "Made predictions in 0.0017 seconds.\n",
      "Tuned model has a testing F1 score of 0.8077.\n"
     ]
    },
    {
     "name": "stderr",
     "output_type": "stream",
     "text": [
      "[Parallel(n_jobs=8)]: Done  48 out of  48 | elapsed:    0.4s finished\n"
     ]
    }
   ],
   "source": [
    "# TODO: Import 'GridSearchCV' and 'make_scorer'\n",
    "from sklearn.model_selection import GridSearchCV\n",
    "from sklearn.cross_validation import StratifiedKFold\n",
    "from sklearn.metrics import make_scorer, f1_score\n",
    "\n",
    "# TODO: Create the parameters list you wish to tune\n",
    "parameters = [{'C': [0.1, 0.2, 0.3, 0.4, 0.5, 0.6, 0.7, 0.8, 0.9, 1.0]}, {'kernel': ['linear', 'poly', 'rbf', 'sigmoid']}, {'random_state': [0]}, {'random_state': [0]}]\n",
    "\n",
    "# TODO: Initialize the classifier\n",
    "clf = clf_F\n",
    "\n",
    "# TODO: Make an f1 scoring function using 'make_scorer' \n",
    "f1_scorer = make_scorer(f1_score, greater_is_better = True, pos_label=\"yes\")\n",
    "\n",
    "# TODO: Perform grid search on the classifier using the f1_scorer as the scoring method\n",
    "grid_obj = GridSearchCV(clf, param_grid = parameters, cv=3, scoring = f1_scorer, verbose=1, n_jobs=8)\n",
    "\n",
    "# TODO: Fit the grid search object to the training data and find the optimal parameters\n",
    "grid_obj = grid_obj.fit(X_train, y_train)\n",
    "\n",
    "# Get the estimator\n",
    "clf = grid_obj.best_estimator_\n",
    "\n",
    "# Report the final F1 score for training and testing after parameter tuning\n",
    "print \"Tuned model has parameters of: \"\n",
    "print grid_obj.best_params_\n",
    "print \"Tuned model has a training F1 score of {:.4f}.\".format(predict_labels(clf, X_train, y_train))\n",
    "print \"Tuned model has a testing F1 score of {:.4f}.\".format(predict_labels(clf, X_test, y_test))"
   ]
  },
  {
   "cell_type": "markdown",
   "metadata": {},
   "source": [
    "### Question 5 - Final F<sub>1</sub> Score\n",
    "*What is the final model's F<sub>1</sub> score for training and testing? How does that score compare to the untuned model?*"
   ]
  },
  {
   "cell_type": "markdown",
   "metadata": {},
   "source": [
    "**Answer: **"
   ]
  },
  {
   "cell_type": "markdown",
   "metadata": {},
   "source": [
    "The final Support Vector Classifier has F1 scores for training and testing of 0.8481 & 0.8077 respectively with a predictive testing time of 0.0017 seconds. The tuned model seem to show a very small improvements over the default parameters for F1 test score. However given the naive model has an f1 score of 0.8030 the model is not very informative. Given the large number of features and the limited amount of data it would be recommended to perform additional data preprocessing and feature reduction. For example using feature importance or uni and bivariate analysis, principal component analysis just to name a few would help identify and extract useful information from the features to reduce issues with dimensionality and hopefully improve model performance."
   ]
  },
  {
   "cell_type": "markdown",
   "metadata": {},
   "source": [
    "> **Note**: Once you have completed all of the code implementations and successfully answered each question above, you may finalize your work by exporting the iPython Notebook as an HTML document. You can do this by using the menu above and navigating to  \n",
    "**File -> Download as -> HTML (.html)**. Include the finished document along with this notebook as your submission."
   ]
  }
 ],
 "metadata": {
  "anaconda-cloud": {},
  "kernelspec": {
   "display_name": "Python [default]",
   "language": "python",
   "name": "python2"
  },
  "language_info": {
   "codemirror_mode": {
    "name": "ipython",
    "version": 2
   },
   "file_extension": ".py",
   "mimetype": "text/x-python",
   "name": "python",
   "nbconvert_exporter": "python",
   "pygments_lexer": "ipython2",
   "version": "2.7.12"
  }
 },
 "nbformat": 4,
 "nbformat_minor": 0
}
